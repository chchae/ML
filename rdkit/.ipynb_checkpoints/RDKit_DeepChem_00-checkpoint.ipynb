{
 "cells": [
  {
   "cell_type": "code",
   "execution_count": null,
   "metadata": {},
   "outputs": [],
   "source": [
    "import numpy as np\n",
    "import tensorflow as tf\n",
    "\n",
    "import deepchem as dc\n",
    "from deepchem.models import GraphConvModel\n",
    "from deepchem.molnet import load_delaney"
   ]
  },
  {
   "cell_type": "code",
   "execution_count": null,
   "metadata": {},
   "outputs": [],
   "source": [
    "np.random.seed(123)\n",
    "tf.compat.v1.random.set_random_seed(123)"
   ]
  },
  {
   "cell_type": "code",
   "execution_count": null,
   "metadata": {},
   "outputs": [],
   "source": [
    "delaney_tasks, delaney_datasets, transformers = load_delaney( featurizer='GraphConv', split='index')\n",
    "train_dataset, valid_dataset, test_dataset = delaney_datasets\n",
    "metric = dc.metrics.Metric(dc.metrics.pearson_r2_score, np.mean)\n",
    "\n",
    "n_feat = 75\n",
    "batch_size = 128\n",
    "model = GraphConvModel( len(delaney_tasks), batch_size=batch_size, mode='regression')\n",
    "\n",
    "model.fit(train_dataset, nb_epoch=50)"
   ]
  },
  {
   "cell_type": "code",
   "execution_count": null,
   "metadata": {},
   "outputs": [],
   "source": [
    "print(\"Evaluating model\")\n",
    "train_scores = model.evaluate(train_dataset, [metric], transformers)\n",
    "valid_scores = model.evaluate(valid_dataset, [metric], transformers)\n",
    "\n",
    "print(\"Train scores\")\n",
    "print(train_scores)\n",
    "\n",
    "print(\"Validation scores\")\n",
    "print(valid_scores)"
   ]
  },
  {
   "cell_type": "code",
   "execution_count": null,
   "metadata": {},
   "outputs": [],
   "source": []
  }
 ],
 "metadata": {
  "kernelspec": {
   "display_name": "Python [conda env:rdkit] *",
   "language": "python",
   "name": "conda-env-rdkit-py"
  },
  "language_info": {
   "codemirror_mode": {
    "name": "ipython",
    "version": 3
   },
   "file_extension": ".py",
   "mimetype": "text/x-python",
   "name": "python",
   "nbconvert_exporter": "python",
   "pygments_lexer": "ipython3",
   "version": "3.7.7"
  }
 },
 "nbformat": 4,
 "nbformat_minor": 4
}
