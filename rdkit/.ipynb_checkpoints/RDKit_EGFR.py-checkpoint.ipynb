{
 "cells": [
  {
   "cell_type": "raw",
   "metadata": {
    "colab": {
     "base_uri": "https://localhost:8080/",
     "height": 1000
    },
    "colab_type": "code",
    "executionInfo": {
     "elapsed": 130809,
     "status": "ok",
     "timestamp": 1597906095793,
     "user": {
      "displayName": "채종학",
      "photoUrl": "https://lh3.googleusercontent.com/a-/AOh14GjM9tdq-k-Sqf6C2LQ574G7PGFRo5YSkTXC6IfbVA=s64",
      "userId": "06796831271294184670"
     },
     "user_tz": -540
    },
    "id": "ZlIwvXwaeWvd",
    "outputId": "79e3f3e5-2eab-4171-b874-8c4eb9138407"
   },
   "source": [
    "#! wget -c https://repo.continuum.io/miniconda/Miniconda3-latest-Linux-x86_64.sh\n",
    "#! chmod +x Miniconda3-latest-Linux-x86_64.sh\n",
    "# ! bash ./Miniconda3-latest-Linux-x86_64.sh -b -f -p /usr/local\n",
    "\n",
    "! wget -c https://repo.anaconda.com/miniconda/Miniconda3-py37_4.8.3-Linux-x86_64.sh\n",
    "! chmod +x Miniconda3-py37_4.8.3-Linux-x86_64.sh\n",
    "! bash ./Miniconda3-py37_4.8.3-Linux-x86_64.sh -b -f -p /usr/local\n",
    "\n",
    "! conda install -q -y -c rdkit rdkit \n",
    "\n",
    "import sys\n",
    "sys.path.append('/usr/local/lib/python3.7/site-packages/')\n",
    "!pip install git+https://github.com/keras-team/keras-tuner.git"
   ]
  },
  {
   "cell_type": "raw",
   "metadata": {
    "colab": {},
    "colab_type": "code",
    "id": "B5_00YV9fuVO"
   },
   "source": [
    "from google.colab import auth\n",
    "auth.authenticate_user()\n",
    "\n",
    "from google.colab import drive\n",
    "drive.mount('./MyDrive')\n",
    "\n",
    "driver_name = './MyDrive/My Drive/Colab Notebooks/'"
   ]
  },
  {
   "cell_type": "code",
   "execution_count": 1,
   "metadata": {},
   "outputs": [],
   "source": [
    "driver_name = '../'"
   ]
  },
  {
   "cell_type": "code",
   "execution_count": 2,
   "metadata": {
    "colab": {},
    "colab_type": "code",
    "id": "S3g2iO5Cd847"
   },
   "outputs": [],
   "source": [
    "import os\n",
    "import numpy as np\n",
    "import random\n",
    "import pandas as pd\n",
    "import matplotlib.pyplot as plt\n",
    "\n",
    "from keras import layers, models\n",
    "from keras.layers import Dense\n",
    "from keras.models import Sequential\n",
    "from keras.utils import np_utils\n",
    "from sklearn.model_selection import train_test_split\n",
    "\n",
    "from rdkit import Chem, DataStructs, rdBase\n",
    "from rdkit.Chem import AllChem, DataStructs, Draw, rdDistGeom\n",
    "from rdkit.Chem.rdMolDescriptors import GetMorganFingerprint, GetMorganFingerprintAsBitVect\n",
    "from rdkit.SimDivFilters.rdSimDivPickers import MaxMinPicker\n",
    "from rdkit.Chem.Draw import IPythonConsole\n",
    "from rdkit import RDLogger\n",
    "RDLogger.logger().setLevel(RDLogger.CRITICAL)"
   ]
  },
  {
   "cell_type": "code",
   "execution_count": 3,
   "metadata": {
    "colab": {},
    "colab_type": "code",
    "id": "2b_LF0bbd84-"
   },
   "outputs": [],
   "source": [
    "def distij( i, j, fps ) :\n",
    "    return 1 - DataStructs.DiceSimilarity( fps[i], fps[j] )\n",
    "\n",
    "\n",
    "def diversePicker( fps ) :\n",
    "    nfps = len(fps)\n",
    "    picker = MaxMinPicker()\n",
    "    pickIndices = picker.LazyPick( distij, nfps, 10, seed=23 )\n",
    "    list(pickIndices)\n",
    "    \n",
    "\n",
    "def readAndSplitMolecules_1( fname, frac_test ) :\n",
    "    molsdf = Chem.rdmolfiles.SDMolSupplier( fname )\n",
    "    moles = [ m for m in molsdf if m != None ]\n",
    "    fps = [GetMorganFingerprint(x,3) for x in moles]\n",
    "    diversePicker( fps )"
   ]
  },
  {
   "cell_type": "code",
   "execution_count": 4,
   "metadata": {
    "colab": {},
    "colab_type": "code",
    "id": "boRGWhJcd84_"
   },
   "outputs": [],
   "source": [
    "def readAndSplitMolecules( fname, frac_test ) :\n",
    "    molsdf = Chem.rdmolfiles.SDMolSupplier( fname )\n",
    "    moles = [ m for m in molsdf if m != None ]\n",
    "    moles_train, moles_test = train_test_split( moles, test_size=frac_test )\n",
    "    print( \"%d-molecules = %d-train + %d-test\" % ( len(molsdf), len(moles_train), len(moles_test) ) )\n",
    "    return moles_train, moles_test"
   ]
  },
  {
   "cell_type": "code",
   "execution_count": 5,
   "metadata": {
    "colab": {},
    "colab_type": "code",
    "id": "dJdikR1td85D"
   },
   "outputs": [],
   "source": [
    "def getFingerprintFromMolecule( moles, nBits=2048 ) :\n",
    "    fps = [ GetMorganFingerprintAsBitVect( m, radius=2, nBits=nBits ) for m in moles ]\n",
    "    np_fps = []\n",
    "    for fp in fps:\n",
    "        arr = np.zeros( (1, ) )\n",
    "        DataStructs.cDataStructs.ConvertToNumpyArray( fp, arr )\n",
    "        np_fps.append( arr )\n",
    "    return np_fps"
   ]
  },
  {
   "cell_type": "code",
   "execution_count": 6,
   "metadata": {
    "colab": {},
    "colab_type": "code",
    "id": "lJX8F0wOd85E"
   },
   "outputs": [],
   "source": [
    "def getActivityOfMolecule( moles ) :\n",
    "    try:\n",
    "        activity = [ m.GetProp( 'pChEMBL_Value' ) for m in moles ]\n",
    "        activity = np.asarray( activity ).astype( 'float' )\n",
    "    except :\n",
    "        print( \"No activity data...\" )\n",
    "        activity = np.array( len(moles) )\n",
    "    return activity"
   ]
  },
  {
   "cell_type": "code",
   "execution_count": 7,
   "metadata": {
    "colab": {},
    "colab_type": "code",
    "id": "8RWc57yFd85G"
   },
   "outputs": [],
   "source": [
    "def generateInputDataRegres( moles, nBits=2048 ) :\n",
    "    fps = np.array( getFingerprintFromMolecule( moles, nBits ) )\n",
    "    y = getActivityOfMolecule( moles )\n",
    "    return fps, y"
   ]
  },
  {
   "cell_type": "code",
   "execution_count": 8,
   "metadata": {
    "colab": {},
    "colab_type": "code",
    "id": "NeJh6AjUd85I"
   },
   "outputs": [],
   "source": [
    "def do_regression( X_train, Y_train, epochs=200, validation_split=0.1 ):\n",
    "    nfeatures = X_train.shape[1]\n",
    "    model = Sequential()\n",
    "    model.add(Dense(nfeatures, input_dim=nfeatures, activation='relu'))\n",
    "    model.add(Dense(nfeatures, activation='relu'))\n",
    "    model.add(Dense(1))\n",
    "    model.compile(loss='mean_squared_error', optimizer='adam', metrics=['mae'] )\n",
    "    history = model.fit(X_train, Y_train, epochs=epochs, batch_size=64, validation_split=validation_split, verbose=1)\n",
    "    return model, history"
   ]
  },
  {
   "cell_type": "code",
   "execution_count": 9,
   "metadata": {
    "colab": {},
    "colab_type": "code",
    "id": "n4N7ss-ed85K"
   },
   "outputs": [],
   "source": [
    "def plot_history( hist ) :\n",
    "    plt.figure( figsize=(6, 4) )\n",
    "    _, loss_ax = plt.subplots()\n",
    "    _ = loss_ax.twinx()\n",
    "\n",
    "    loss_ax.plot(hist.history['loss'], 'y', label='train loss')\n",
    "    loss_ax.plot(hist.history['val_loss'], 'r', label='val loss')\n",
    "    loss_ax.set_xlabel('epoch')\n",
    "    loss_ax.set_ylabel('loss')\n",
    "    loss_ax.legend(loc='upper right')\n",
    "\n",
    "    plt.show()"
   ]
  },
  {
   "cell_type": "code",
   "execution_count": 10,
   "metadata": {
    "colab": {},
    "colab_type": "code",
    "id": "KgfafsPzd85L"
   },
   "outputs": [],
   "source": [
    "def plot_prediction( Y_train, Y_train_pred, Y_test, Y_test_pred ) :\n",
    "    plt.figure( figsize=(4, 4) )\n",
    "    plt.scatter(Y_train, Y_train_pred, color='black', s=2)\n",
    "    plt.scatter(Y_test, Y_test_pred, color='red', s=2)\n",
    "    plt.xticks( np.arange(3, 12) )\n",
    "    plt.yticks( np.arange(3, 12) )\n",
    "    plt.show()"
   ]
  },
  {
   "cell_type": "code",
   "execution_count": 11,
   "metadata": {
    "colab": {},
    "colab_type": "code",
    "id": "KHGoiF73d85N"
   },
   "outputs": [],
   "source": [
    "def check_duplicates( fps ) :\n",
    "    fps2 = np.unique( [ tuple(row) for row in fps ] )\n",
    "    print( len(fps), len(fps2) )"
   ]
  },
  {
   "cell_type": "code",
   "execution_count": 12,
   "metadata": {
    "colab": {},
    "colab_type": "code",
    "id": "UIHEGR45d85O"
   },
   "outputs": [],
   "source": [
    "def MakePredictionModel( sdfname, nBits, frac_test, epochs, fname_model ) :\n",
    "    #readAndSplitMolecules_1( sdfname, frac_test )\n",
    "    moles_train, moles_test = readAndSplitMolecules( sdfname, frac_test )\n",
    "    fps_train, activity_train = generateInputDataRegres( moles_train, nBits )\n",
    "    fps_test,  activity_test  = generateInputDataRegres( moles_test,  nBits )\n",
    "#check_duplicates( fps_train )\n",
    "\n",
    "    model, history = do_regression( fps_train, activity_train, epochs=epochs, validation_split=0.1 )\n",
    "    model.save( fname_model )\n",
    "\n",
    "    plot_history( history )\n",
    "\n",
    "    activity_train_pred = model.predict( fps_train ).flatten()\n",
    "    activity_test_pred  = model.predict( fps_test ).flatten()\n",
    "\n",
    "    plot_prediction( activity_train, activity_train_pred, activity_test, activity_test_pred )"
   ]
  },
  {
   "cell_type": "code",
   "execution_count": 18,
   "metadata": {
    "colab": {},
    "colab_type": "code",
    "id": "HcS_Ymood85Q"
   },
   "outputs": [],
   "source": [
    "def UsePredictionModel( model, dbfname, nBits ) :\n",
    "    mdb = Chem.rdmolfiles.SmilesMolSupplier( dbfname )\n",
    "    moles = [ m for m in mdb if m != None ][6000:9000]\n",
    "    #fps = getFingerprintFromMolecule( moles )\n",
    "    print( 'Start searching ...' )\n",
    "    result = []\n",
    "    for m in moles :\n",
    "        fp = GetMorganFingerprintAsBitVect( m, radius=2, nBits=nBits )\n",
    "        fps = np.zeros( (1, ) )\n",
    "        DataStructs.cDataStructs.ConvertToNumpyArray( fp, fps )\n",
    "        yp = model.predict( fps.reshape(1,-1) )[0]\n",
    "        if 7.5 < yp :\n",
    "            print( \"%5.2f : %s\" % ( yp, Chem.MolToSmiles(m) ) )\n",
    "            result.append( m )\n",
    "            \n",
    "    return result"
   ]
  },
  {
   "cell_type": "code",
   "execution_count": null,
   "metadata": {
    "colab": {},
    "colab_type": "code",
    "id": "SyZPsZvvd85R"
   },
   "outputs": [
    {
     "name": "stdout",
     "output_type": "stream",
     "text": [
      "Start searching ...\n",
      " 7.32 : CNC(=O)C1(Cc2ccc(-c3cccc(C)c3)cc2)CCN(C(=O)C2CCCCC2)CC1\n",
      " 7.26 : CC(=O)N1CCC2(CC1)NC(=O)N(C1CCN(Cc3ccccc3F)CC1)C2=O\n",
      " 7.21 : CCN(C(=O)c1c[nH]nc1C1CCN(C(=O)[C@H]2CC[C@H](OC)CC2)CC1)c1ccccc1\n",
      " 7.42 : CCCc1cc(C(=O)N2CCCC2c2ncc(C(=O)Nc3ccccc3OC)c(C)n2)no1\n",
      " 7.23 : COc1ccccc1NC(=O)c1cnc(C2CCCN2C(=O)c2ccnn2C(C)C)nc1C\n",
      " 7.93 : Cc1nc(C2CCCN2C(=O)c2cc3c([nH]c2=O)CCC3)ncc1C(=O)Nc1ccccc1\n",
      " 7.20 : Cc1nc(C2CCCN2S(=O)(=O)c2cnn(C)c2)ncc1C(=O)Nc1ccccc1\n",
      " 7.72 : COc1cc(CCC(=O)N2CCCC2c2ncc(C(=O)Nc3ccccc3)c(C)n2)on1\n",
      " 7.27 : Cc1cc(C)n(CCCC(=O)N2CCCC2c2ncc(C(=O)Nc3ccccc3)c(C)n2)n1\n",
      " 7.90 : Cc1nc(CC(=O)N2CCCC2c2ncc(C(=O)Nc3ccccc3)c(C)n2)cs1\n",
      " 7.35 : Cc1cc(C(=O)N2CCCC2c2ncc(C(=O)Nc3ccccc3)c(C)n2)c(=O)[nH]c1C\n",
      " 7.24 : COc1ccc(CC(=O)N2CCCC2c2ncc(C(=O)Nc3ccc(F)cc3)c(C)n2)cc1\n",
      " 7.28 : Cc1nc(C2CCCN2Cc2cccc(Cl)c2)ncc1C(=O)NCc1ccc(F)cc1\n",
      " 7.70 : COc1ccccc1NC(=O)c1cnc(C2CCCCN2C(=O)c2cnn(C)c2)nc1C\n",
      " 7.57 : COc1ccccc1NC(=O)c1cnc(C2CCCCN2C(=O)Cc2ccccc2)nc1C\n",
      " 7.25 : CCc1ncc(CN2CCCCC2c2ncc(C(=O)Nc3ccccc3OC)c(C)n2)cn1\n",
      " 7.77 : COc1ccccc1NC(=O)c1cnc(C2CCCCN2Cc2ccc(C)c(C)c2)nc1C\n",
      " 7.43 : COc1ccccc1NC(=O)c1cnc(C2CCCCN2CCc2ccccc2)nc1C\n",
      " 7.24 : COc1ccccc1NC(=O)c1cnc(C2CCCCN2Cc2ccc(F)cc2)nc1C\n",
      " 7.26 : COc1ccc(CN2CCCCC2c2ncc(C(=O)Nc3ccccc3OC)c(C)n2)cc1\n",
      " 7.39 : COc1ccccc1NC(=O)c1cnc(C2CCCCN2CCCc2ccccc2)nc1C\n",
      " 7.98 : COc1ccccc1NC(=O)c1cnc(C2CCCCN2Cc2cnn(C)c2)nc1C\n",
      " 7.29 : COc1ccccc1NC(=O)c1cnc(C2CCCCN2C(=O)c2ccnn2C)nc1C\n",
      " 7.54 : COc1cccc(CN2CCCCC2c2ncc(C(=O)Nc3ccccc3OC)c(C)n2)c1\n",
      " 7.79 : Cc1nc(C2CCCCN2C(=O)CCc2ccccc2F)ncc1C(=O)Nc1ccccc1\n",
      " 7.47 : Cc1nc(C2CCCCN2C(=O)c2ccc(=O)n(C)c2)ncc1C(=O)Nc1ccccc1\n",
      " 7.21 : Cc1nc(C2CCCCN2C(=O)CCn2ccccc2=O)ncc1C(=O)Nc1ccccc1\n",
      " 7.40 : Cc1nc(C2CCCCN2C(=O)Cc2ccccc2)ncc1C(=O)Nc1ccccc1\n",
      " 7.46 : CCOc1ccccc1C(=O)N1CCCCC1c1ncc(C(=O)Nc2ccccc2)c(C)n1\n",
      " 8.07 : CCc1nn(C)c(C(=O)N2CCCCC2c2ncc(C(=O)Nc3ccccc3)c(C)n2)c1C\n",
      " 7.22 : COc1c(C)cccc1C(=O)N1CCCCC1c1ncc(C(=O)Nc2ccccc2)c(C)n1\n",
      " 7.29 : Cc1nc(C2CCCCN2C(=O)CCCc2ccccn2)ncc1C(=O)Nc1ccccc1\n",
      " 7.67 : COc1cccc(CC(=O)N2CCCCC2c2ncc(C(=O)Nc3ccccc3)c(C)n2)c1\n",
      " 7.58 : Cc1nc(C2CCCCN2S(=O)(=O)c2cn(C)cn2)ncc1C(=O)Nc1ccccc1\n",
      " 7.23 : Cc1nc(C2CCCCN2Cc2ccc(F)cc2)ncc1C(=O)Nc1ccccc1\n",
      " 7.76 : COc1ccc(CC(=O)N2CCCCC2c2ncc(C(=O)Nc3ccccc3)c(C)n2)cc1\n",
      " 7.42 : Cc1nc(C2CCCCN2C(=O)Cc2ccc(F)cc2)ncc1C(=O)Nc1ccccc1\n",
      " 7.43 : Cc1nc(C2CCCCN2C(=O)c2n[nH]c3c2CCCC3)ncc1C(=O)Nc1ccccc1\n",
      " 7.25 : Cc1nc(C2CCCCN2C(=O)Cn2nc(C)c(C)c2C)ncc1C(=O)Nc1ccccc1\n",
      " 7.39 : CC(=O)Nc1ccc(CN2CCCCC2c2ncc(C(=O)Nc3ccccc3)c(C)n2)cc1\n",
      " 7.25 : COc1ccc(CN2CCCCC2c2ncc(C(=O)Nc3ccccc3)c(C)n2)c(OC)c1\n",
      " 7.51 : Cc1nc(C2CCCCN2C(=O)CCC2=NNC(=O)CC2)ncc1C(=O)Nc1ccccc1\n",
      " 7.36 : COc1ccc(CN2CCCCC2c2ncc(C(=O)Nc3ccccc3)c(C)n2)cc1OC\n",
      " 7.54 : Cc1nc(C2CCCCN2C(=O)Cc2ccccc2)ncc1C(=O)Nc1ccc(Cl)cc1\n",
      " 8.04 : Cc1nc(C2CCCCN2Cc2cnn(C)c2)ncc1C(=O)Nc1ccc(Cl)cc1\n",
      " 7.64 : Cc1nc(C2CCCCN2C(=O)c2ccc(=O)n(C)c2)ncc1C(=O)Nc1ccccc1F\n",
      " 7.39 : Cc1ncc(C(=O)N2CCCCC2c2ncc(C(=O)Nc3ccccc3F)c(C)n2)c(C)n1\n",
      " 7.35 : Cc1nc(C2CCCCN2C(=O)CCc2ccccc2)ncc1C(=O)Nc1ccccc1F\n",
      " 7.49 : Cc1nc(C2CCCCN2C(=O)COc2ccccc2)ncc1C(=O)Nc1ccccc1F\n",
      " 7.74 : Cc1nc(C2CCCCN2C(=O)c2ccc(N)nc2)ncc1C(=O)Nc1ccccc1F\n",
      " 7.63 : COc1cc(C)ccc1CN1CCCCC1c1ncc(C(=O)Nc2ccccc2F)c(C)n1\n",
      " 7.86 : COc1c(C)cccc1CN1CCCCC1c1ncc(C(=O)Nc2ccccc2F)c(C)n1\n",
      " 8.06 : Cc1ccc(CN2CCCCC2c2ncc(C(=O)Nc3ccccc3F)c(C)n2)cc1C\n",
      " 8.13 : Cc1nc(C2CCCCN2Cc2cccc(Cl)c2)ncc1C(=O)Nc1ccccc1F\n",
      " 7.56 : COc1ccc(C(=O)N2CCCCC2c2ncc(C(=O)Nc3ccccc3F)c(C)n2)cn1\n",
      " 7.64 : Cc1nc(C2CCCCN2CCc2ccccc2)ncc1C(=O)Nc1ccccc1F\n",
      " 7.52 : Cc1nc(C2CCCCN2Cc2ccccc2Cl)ncc1C(=O)Nc1ccccc1F\n",
      " 7.66 : COc1ccc(CN2CCCCC2c2ncc(C(=O)Nc3ccccc3F)c(C)n2)cc1\n",
      " 8.09 : Cc1ccc(CC(=O)N2CCCCC2c2ncc(C(=O)Nc3ccccc3F)c(C)n2)cc1\n",
      " 8.08 : Cc1cccc(CC(=O)N2CCCCC2c2ncc(C(=O)Nc3ccccc3F)c(C)n2)c1\n",
      " 7.25 : Cc1nc(C2CCCCN2C(=O)c2ccc(=O)n(C)c2)ncc1C(=O)Nc1ccc(F)cc1\n",
      " 7.24 : Cc1nc(C2CCCCN2C(=O)COc2ccccc2)ncc1C(=O)Nc1ccc(F)cc1\n",
      " 7.41 : COc1cccc(C(=O)N2CCCCC2c2ncc(C(=O)Nc3ccc(F)cc3)c(C)n2)c1\n",
      " 7.26 : COc1cc(C)ccc1CN1CCCCC1c1ncc(C(=O)Nc2ccc(F)cc2)c(C)n1\n",
      " 7.50 : COc1c(C)cccc1CN1CCCCC1c1ncc(C(=O)Nc2ccc(F)cc2)c(C)n1\n",
      " 7.36 : COc1ccc(CN2CCCCC2c2ncc(C(=O)Nc3ccc(F)cc3)c(C)n2)cc1\n",
      " 7.57 : Cc1ccc(CC(=O)N2CCCCC2c2ncc(C(=O)Nc3ccc(F)cc3)c(C)n2)cc1\n",
      " 7.57 : Cc1cccc(CC(=O)N2CCCCC2c2ncc(C(=O)Nc3ccc(F)cc3)c(C)n2)c1\n",
      " 7.25 : CCOc1ccc(CN2CCCCC2c2ncc(C(=O)Nc3ccc(F)cc3)c(C)n2)cc1\n",
      " 7.37 : Cc1nc(C2CCCCN2C(=O)c2cnn(C)c2)ncc1C(=O)NCc1ccc(F)cc1\n",
      " 7.43 : Cc1cccc(CN2CCCCC2c2ncc(C(=O)NCc3ccc(F)cc3)c(C)n2)c1\n",
      " 7.34 : Cc1nc(C2CCCCN2CCc2ccccc2)ncc1C(=O)NCc1ccc(F)cc1\n",
      " 7.65 : Cc1nc(C2CCCCN2Cc2cnn(C)c2)ncc1C(=O)NCc1ccc(F)cc1\n",
      " 7.48 : Cc1nc(C2CCCCN2C(=O)c2cnn(C)c2)ncc1C(=O)NCc1ccccc1\n",
      " 7.28 : Cc1nc(C2CCCCN2C(=O)c2ccc(=O)n(C)c2)ncc1C(=O)NCc1ccccc1\n",
      " 7.47 : COc1c(C)cccc1CN1CCCCC1c1ncc(C(=O)NCc2ccccc2)c(C)n1\n",
      " 7.56 : CCn1nc(C)c(CN2CCCCC2c2ncc(C(=O)NCc3ccccc3)c(C)n2)c1C\n",
      " 7.63 : Cc1nc(C2CCCCN2Cc2cccc(Cl)c2)ncc1C(=O)NCc1ccccc1\n",
      " 7.39 : COc1ccc(C(=O)N2CCCCC2c2ncc(C(=O)NCc3ccccc3)c(C)n2)cn1\n",
      " 7.91 : Cc1nc(C2CCCCN2C(=O)Cc2ccccc2F)ncc1C(=O)NCc1ccccc1\n",
      " 7.30 : Cc1cccc(CC(=O)N2CCCCC2c2ncc(C(=O)NCc3ccccc3)c(C)n2)c1\n",
      " 8.12 : Cc1nc(C2CCCCN2C(=O)c2cc(C(C)C)n[nH]2)ncc1C(=O)NCc1ccccc1\n",
      " 7.76 : COc1cccc(CNC(=O)c2cnc(C3CCCCN3C(=O)c3cnn(C)c3)nc2C)c1\n",
      " 7.29 : COc1cccc(CNC(=O)c2cnc(C3CCCCN3C(=O)c3ccccc3)nc2C)c1\n",
      " 7.42 : COc1cccc(CNC(=O)c2cnc(C3CCCCN3Cc3ccccc3C)nc2C)c1\n",
      " 7.30 : CCn1ccnc1CN1CCCCC1c1ncc(C(=O)NCc2cccc(OC)c2)c(C)n1\n",
      " 7.41 : COc1cccc(CNC(=O)c2cnc(C3CCCCN3Cc3ccc(F)cc3)nc2C)c1\n",
      " 7.31 : COc1cccc(CNC(=O)c2cnc(C3CCCCN3C3CCCCC3)nc2C)c1\n",
      " 7.49 : CCOc1ccc(CN2CCCCC2c2ncc(C(N)=O)c(C)n2)cc1Cn1cccn1\n",
      " 7.21 : Cc1nc(C2CCCCN2Cc2ccc(OC(C)C)c(Cn3cccn3)c2)ncc1C(N)=O\n",
      " 7.21 : CCN(CC)C(=O)c1cnc(C2CCCCN2Cc2c[nH]nc2-c2cccs2)nc1C\n",
      " 7.39 : Cc1ccc2cc(C(=O)N3CCCCC3c3ncc(C(=O)N4CCOCC4)c(C)n3)[nH]c2c1\n",
      " 7.31 : Cc1nc(C2CCCN(C(=O)CCc3ccccc3F)C2)ncc1C(=O)Nc1ccccc1\n",
      " 7.72 : CCc1nn(C)c(C(=O)N2CCCC(c3ncc(C(=O)Nc4ccccc4)c(C)n3)C2)c1C\n",
      " 7.29 : Cc1nc(C2CCCN(S(=O)(=O)N3CCOCC3)C2)ncc1C(=O)Nc1ccccc1\n",
      " 7.44 : Cc1nc(C2CCCN(C(=O)Cn3ccnc3C(C)C)C2)ncc1C(=O)Nc1ccccc1\n",
      " 7.28 : Cc1nc(C2CCCN(C(=O)Cn3[nH]c(C)c(C)c3=O)C2)ncc1C(=O)Nc1ccccc1\n",
      " 7.25 : Cc1nc(C2CCCN(Cc3ccc4ncccc4c3)C2)ncc1C(=O)Nc1ccccc1\n",
      " 7.59 : Cc1nc(C2CCCN(Cc3cnn(C)c3)C2)ncc1C(=O)Nc1ccccc1\n",
      " 7.53 : CNC(=O)c1cnc(C2CCCN(C(=O)Cn3c(=O)oc4ccc(C)cc43)C2)nc1C\n",
      " 7.42 : CCc1nn(C)c(C(=O)N2CCC(c3ncc(C(=O)Nc4ccccc4)c(C)n3)CC2)c1C\n",
      " 7.24 : Cc1nc(C2CCN(C(=O)Cn3ccnc3C(C)C)CC2)ncc1C(=O)Nc1ccccc1\n",
      " 7.29 : Cc1nc(C2CCN(S(=O)(=O)c3cn(C)cn3)CC2)ncc1C(=O)Nc1ccccc1\n"
     ]
    }
   ],
   "source": [
    "nBits = 1024\n",
    "fname_model = driver_name + 'data/egfr/ChEMBL-EGFR-2664-model.save'\n",
    "\n",
    "if not os.path.exists( fname_model ) :\n",
    "    frac_test = 0.3\n",
    "    epochs = 100\n",
    "    sdfname = driver_name + 'data/egfr/200609-ChEMBL-2664.sdf'\n",
    "    MakePredictionModel( sdfname, nBits, frac_test, epochs, fname_model )\n",
    "\n",
    "if os.path.exists( fname_model ) :\n",
    "    dbfname = driver_name + 'data/egfr/emolecules-10k.smi'\n",
    "    model = models.load_model( fname_model )\n",
    "    result = UsePredictionModel( model, dbfname, nBits )\n",
    "    \n",
    "    Draw.MolsToGridImage( result[:20], molsPerRow=4, subImgSize=(250,250) )    "
   ]
  },
  {
   "cell_type": "code",
   "execution_count": null,
   "metadata": {
    "colab": {},
    "colab_type": "code",
    "id": "qaUxuBfed85U"
   },
   "outputs": [],
   "source": [
    "Draw.MolsToGridImage( result, molsPerRow=4, subImgSize=(250,250) )    "
   ]
  }
 ],
 "metadata": {
  "colab": {
   "collapsed_sections": [],
   "name": "RDKit_EGFR.py.ipynb",
   "provenance": []
  },
  "kernelspec": {
   "display_name": "Python [conda env:rdkit] *",
   "language": "python",
   "name": "conda-env-rdkit-py"
  },
  "language_info": {
   "codemirror_mode": {
    "name": "ipython",
    "version": 3
   },
   "file_extension": ".py",
   "mimetype": "text/x-python",
   "name": "python",
   "nbconvert_exporter": "python",
   "pygments_lexer": "ipython3",
   "version": "3.7.7"
  }
 },
 "nbformat": 4,
 "nbformat_minor": 1
}
