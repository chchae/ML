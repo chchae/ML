{
 "cells": [
  {
   "cell_type": "code",
   "execution_count": null,
   "metadata": {
    "colab": {},
    "colab_type": "code",
    "id": "vlRqzpCP0sUz"
   },
   "outputs": [],
   "source": [
    "#! wget -c https://repo.continuum.io/miniconda/Miniconda3-latest-Linux-x86_64.sh\n",
    "#! chmod +x Miniconda3-latest-Linux-x86_64.sh\n",
    "# ! bash ./Miniconda3-latest-Linux-x86_64.sh -b -f -p /usr/local\n",
    "\n",
    "! wget -c https://repo.anaconda.com/miniconda/Miniconda3-py37_4.8.3-Linux-x86_64.sh\n",
    "! chmod +x Miniconda3-py37_4.8.3-Linux-x86_64.sh\n",
    "! bash ./Miniconda3-py37_4.8.3-Linux-x86_64.sh -b -f -p /usr/local\n",
    "\n",
    "! conda install -q -y -c rdkit rdkit \n",
    "\n",
    "import sys\n",
    "sys.path.append('/usr/local/lib/python3.7/site-packages/')\n",
    "!pip install git+https://github.com/keras-team/keras-tuner.git"
   ]
  },
  {
   "cell_type": "code",
   "execution_count": null,
   "metadata": {
    "colab": {},
    "colab_type": "code",
    "id": "HZgZvDwtA1_Z"
   },
   "outputs": [],
   "source": [
    "from google.colab import auth\n",
    "auth.authenticate_user()\n",
    "\n",
    "from google.colab import drive\n",
    "drive.mount('./MyDrive')\n",
    "\n",
    "driver_name = './MyDrive/My Drive/Colab Notebooks'"
   ]
  },
  {
   "cell_type": "code",
   "execution_count": null,
   "metadata": {
    "colab": {},
    "colab_type": "code",
    "id": "wf-93_Iv1xFh"
   },
   "outputs": [],
   "source": [
    "import numpy as np\n",
    "\n",
    "from rdkit import Chem, DataStructs, rdBase\n",
    "from rdkit.Chem import AllChem, DataStructs, Draw, rdDistGeom\n",
    "from rdkit.Chem.rdMolDescriptors import GetMorganFingerprint, GetMorganFingerprintAsBitVect\n",
    "from rdkit.SimDivFilters.rdSimDivPickers import MaxMinPicker\n",
    "from rdkit.Chem.Draw import IPythonConsole"
   ]
  },
  {
   "cell_type": "code",
   "execution_count": null,
   "metadata": {
    "colab": {},
    "colab_type": "code",
    "id": "bh7RcZH12OLA"
   },
   "outputs": [],
   "source": [
    "def setlabel(m) :\n",
    "    for i, at in enumerate( m.GetAtoms() ) :\n",
    "        sstr = str(i)\n",
    "        at.SetProp( 'atomLabel', sstr )\n",
    "    return mol"
   ]
  },
  {
   "cell_type": "code",
   "execution_count": null,
   "metadata": {
    "colab": {},
    "colab_type": "code",
    "id": "SnNnoyWZ04Rs"
   },
   "outputs": [],
   "source": [
    "mol = Chem.MolFromSmiles( 'CNC' )\n",
    "setlabel(mol)\n",
    "#mol\n",
    "\n",
    "A = Chem.GetAdjacencyMatrix( mol )\n",
    "A = np.asmatrix( A )\n",
    "A"
   ]
  },
  {
   "cell_type": "code",
   "execution_count": null,
   "metadata": {
    "colab": {},
    "colab_type": "code",
    "id": "dnmE9Fbk3OBq"
   },
   "outputs": [],
   "source": [
    "C = [1, 0]\n",
    "N = [0, 1]\n",
    "\n",
    "X = np.array( [ C, N, C ] )\n",
    "X\n",
    "\n",
    "A @ X"
   ]
  }
 ],
 "metadata": {
  "colab": {
   "authorship_tag": "ABX9TyNlq1vBk/evGeL4jsm+KipD",
   "collapsed_sections": [],
   "name": "RDKit_GraphConv.ipynb",
   "private_outputs": true,
   "provenance": []
  },
  "kernelspec": {
   "display_name": "Python 3",
   "language": "python",
   "name": "python3"
  },
  "language_info": {
   "codemirror_mode": {
    "name": "ipython",
    "version": 3
   },
   "file_extension": ".py",
   "mimetype": "text/x-python",
   "name": "python",
   "nbconvert_exporter": "python",
   "pygments_lexer": "ipython3",
   "version": "3.7.7"
  }
 },
 "nbformat": 4,
 "nbformat_minor": 1
}
