{
 "cells": [
  {
   "cell_type": "code",
   "execution_count": 2,
   "metadata": {},
   "outputs": [
    {
     "ename": "ModuleNotFoundError",
     "evalue": "No module named 'cyjupyter'",
     "output_type": "error",
     "traceback": [
      "\u001b[1;31m---------------------------------------------------------------------------\u001b[0m",
      "\u001b[1;31mModuleNotFoundError\u001b[0m                       Traceback (most recent call last)",
      "\u001b[1;32m<ipython-input-2-fd6a090b1660>\u001b[0m in \u001b[0;36m<module>\u001b[1;34m\u001b[0m\n\u001b[0;32m      7\u001b[0m \u001b[1;32mimport\u001b[0m \u001b[0mnetworkx\u001b[0m \u001b[1;32mas\u001b[0m \u001b[0mnx\u001b[0m\u001b[1;33m\u001b[0m\u001b[1;33m\u001b[0m\u001b[0m\n\u001b[0;32m      8\u001b[0m \u001b[1;32mfrom\u001b[0m \u001b[0mnetworkx\u001b[0m\u001b[1;33m.\u001b[0m\u001b[0mreadwrite\u001b[0m \u001b[1;32mimport\u001b[0m \u001b[0mcytoscape_data\u001b[0m\u001b[1;33m\u001b[0m\u001b[1;33m\u001b[0m\u001b[0m\n\u001b[1;32m----> 9\u001b[1;33m \u001b[1;32mimport\u001b[0m \u001b[0mcyjupyter\u001b[0m\u001b[1;33m\u001b[0m\u001b[1;33m\u001b[0m\u001b[0m\n\u001b[0m\u001b[0;32m     10\u001b[0m \u001b[1;32mfrom\u001b[0m \u001b[0mcyjupyter\u001b[0m \u001b[1;32mimport\u001b[0m \u001b[0mCytoscape\u001b[0m\u001b[1;33m\u001b[0m\u001b[1;33m\u001b[0m\u001b[0m\n\u001b[0;32m     11\u001b[0m \u001b[1;32mfrom\u001b[0m \u001b[0mrdkit\u001b[0m\u001b[1;33m.\u001b[0m\u001b[0mChem\u001b[0m \u001b[1;32mimport\u001b[0m \u001b[0mAllChem\u001b[0m\u001b[1;33m\u001b[0m\u001b[1;33m\u001b[0m\u001b[0m\n",
      "\u001b[1;31mModuleNotFoundError\u001b[0m: No module named 'cyjupyter'"
     ]
    }
   ],
   "source": [
    "from rdkit import Chem\n",
    "from rdkit.Chem import rdBase\n",
    "from rdkit.Chem import Draw\n",
    "from rdkit.Chem.Draw import rdMolDraw2D\n",
    "# from rdkit.Chem.Draw import IPythonConsole\n",
    "# print( rdBase.rdkitVersion )\n",
    "import networkx as nx\n",
    "from networkx.readwrite import cytoscape_data\n",
    "import cyjupyter\n",
    "from cyjupyter import Cytoscape\n",
    "from rdkit.Chem import AllChem\n",
    "from rdkit.Chem.Scaffolds import rdScaffoldNetwork\n",
    "from urllib import parse"
   ]
  },
  {
   "cell_type": "code",
   "execution_count": null,
   "metadata": {},
   "outputs": [],
   "source": [
    "smiles_lsit = [\n",
    "    \"CC1=C(C=C(C=C1)NC(=O)C2=CC=C(C=C2)CN3CCN(CC3)C)NC4=NC=CC(=N4)C5=CN=CC=C5\",\n",
    "    \"CC1CCN(CC1N(C)C2=NC=NC3=C2C=CN3)C(=O)CC#N\"\n",
    "]\n",
    "\n",
    "mols = [Chem.MolFromSmiles(smi) for smi in smiles_lsit]\n",
    "\n",
    "Draw.MolsToGridImage(mols)"
   ]
  },
  {
   "cell_type": "code",
   "execution_count": null,
   "metadata": {},
   "outputs": [],
   "source": [
    "params = rdScaffoldNetwork.ScaffoldNetworkParams()\n",
    "netwks = rdScaffoldNetwork.CreateScaffoldNetwork([mols[1]], params)"
   ]
  },
  {
   "cell_type": "code",
   "execution_count": null,
   "metadata": {},
   "outputs": [],
   "source": [
    "def smi2svg(smi):\n",
    "    mol = Chem.MolFromSmiles(smi)\n",
    "    try:\n",
    "        Chem.rdmolops.Kekulize(mol)\n",
    "    except:\n",
    "        pass\n",
    "    drawer = rdMolDraw2D.MolDraw2DSVG(690, 400)\n",
    "    AllChem.Compute2DCoords(mol)\n",
    "    drawer.DrawMolecule(mol)\n",
    "    drawer.FinishDrawing()\n",
    "    svg = drawer.GetDrawingText().replace(\"svg:\", \"\")\n",
    "    return svg"
   ]
  },
  {
   "cell_type": "code",
   "execution_count": null,
   "metadata": {},
   "outputs": [],
   "source": [
    "def smi2image(smi):\n",
    "    svg_string = smi2svg(smi)\n",
    "    impath = 'data:image/svg+xml;charset=utf-8,' + parse.quote(svg_string, safe=\"\")\n",
    "    return impath"
   ]
  },
  {
   "cell_type": "code",
   "execution_count": null,
   "metadata": {},
   "outputs": [],
   "source": [
    "g = nx.graph.Graph()\n",
    "rdk_nodes = [Chem.MolFromSmiles(sma) for sma in netwks.nodes]\n",
    "Draw.MolsToGridImage(rdk_nodes)"
   ]
  },
  {
   "cell_type": "code",
   "execution_count": null,
   "metadata": {},
   "outputs": [],
   "source": [
    "for idx, node in enumerate(netwks.nodes):\n",
    "    g.add_node(idx, smiles=node, img=smi2image(node), hac=Chem.MolFromSmiles(node).GetNumAtoms())"
   ]
  },
  {
   "cell_type": "code",
   "execution_count": null,
   "metadata": {},
   "outputs": [],
   "source": [
    "g.number_of_nodes()\n",
    "g.add_edges_from([(e.beginIdx,e.endIdx) for e in netwks.edges])\n",
    "cy_g = cytoscape_data(g)"
   ]
  },
  {
   "cell_type": "code",
   "execution_count": null,
   "metadata": {},
   "outputs": [],
   "source": [
    "stobj=[\n",
    "  {'style': [{'css': {\n",
    "      'background-color': 'blue',\n",
    "      'shape' : 'rectangle',\n",
    "      'width':600,\n",
    "      'height':400,\n",
    "      'border-color': 'rgb(0,0,0)',\n",
    "      'border-opacity': 1.0,\n",
    "      'border-width': 0.0,\n",
    "      'color': '#4579e8',\n",
    "      'background-image':'data(img)',\n",
    "      'background-fit':'contain'\n",
    "                    },\n",
    "    'selector': 'node'},\n",
    "            {'css': {\n",
    "                'width': 20.0,\n",
    "            },\n",
    "            'selector': 'edge'}\n",
    "            ],\n",
    "  }]\n"
   ]
  },
  {
   "cell_type": "code",
   "execution_count": null,
   "metadata": {},
   "outputs": [],
   "source": [
    "cyobj=Cytoscape(data=cy_g, visual_style=stobj[0]['style'], layout_name='breadthfirst')\n",
    "cyobj"
   ]
  },
  {
   "cell_type": "code",
   "execution_count": null,
   "metadata": {},
   "outputs": [],
   "source": []
  }
 ],
 "metadata": {
  "kernelspec": {
   "display_name": "Python [conda env:rdkit] *",
   "language": "python",
   "name": "conda-env-rdkit-py"
  },
  "language_info": {
   "codemirror_mode": {
    "name": "ipython",
    "version": 3
   },
   "file_extension": ".py",
   "mimetype": "text/x-python",
   "name": "python",
   "nbconvert_exporter": "python",
   "pygments_lexer": "ipython3",
   "version": "3.7.7"
  }
 },
 "nbformat": 4,
 "nbformat_minor": 4
}
