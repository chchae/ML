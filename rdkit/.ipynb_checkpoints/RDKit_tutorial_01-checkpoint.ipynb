{
 "cells": [
  {
   "cell_type": "code",
   "execution_count": null,
   "metadata": {
    "colab": {},
    "colab_type": "code",
    "id": "pJbGIA_365Kw"
   },
   "outputs": [],
   "source": [
    "#! wget -c https://repo.continuum.io/miniconda/Miniconda3-latest-Linux-x86_64.sh\n",
    "#! chmod +x Miniconda3-latest-Linux-x86_64.sh\n",
    "# ! bash ./Miniconda3-latest-Linux-x86_64.sh -b -f -p /usr/local\n",
    "\n",
    "! wget -c https://repo.anaconda.com/miniconda/Miniconda3-py37_4.8.3-Linux-x86_64.sh\n",
    "! chmod +x Miniconda3-py37_4.8.3-Linux-x86_64.sh\n",
    "! bash ./Miniconda3-py37_4.8.3-Linux-x86_64.sh -b -f -p /usr/local\n",
    "\n",
    "! conda install -q -y -c rdkit rdkit \n",
    "\n",
    "import sys\n",
    "sys.path.append('/usr/local/lib/python3.7/site-packages/')\n",
    "!pip install git+https://github.com/keras-team/keras-tuner.git"
   ]
  },
  {
   "cell_type": "code",
   "execution_count": null,
   "metadata": {
    "colab": {},
    "colab_type": "code",
    "id": "FEA_8pcFAvVo"
   },
   "outputs": [],
   "source": [
    "import numpy as np\n",
    "import pandas as pd\n",
    "import matplotlib.pyplot as plt\n",
    "import random\n",
    "from sklearn.model_selection import train_test_split\n",
    "import warnings , os, re\n",
    "os.environ['TF_CPP_MIN_LOG_LEVEL'] = '3'\n",
    "import tensorflow as tf\n",
    "\n",
    "import tensorflow.keras as keras\n",
    "from tensorflow.keras import layers, models\n",
    "from tensorflow.keras.layers import Dense\n",
    "from tensorflow.keras.models import Sequential\n",
    "from keras.utils import np_utils\n",
    "\n",
    "from kerastuner.tuners import RandomSearch, BayesianOptimization\n",
    "from kerastuner.engine.hypermodel import HyperModel\n",
    "from kerastuner.engine.hyperparameters import HyperParameters, Choice"
   ]
  },
  {
   "cell_type": "code",
   "execution_count": null,
   "metadata": {
    "colab": {},
    "colab_type": "code",
    "id": "Hh4qrlWH6c4b"
   },
   "outputs": [],
   "source": [
    "from rdkit import Chem, DataStructs\n",
    "from rdkit.Chem import AllChem, Draw, rdDistGeom\n",
    "from rdkit.Chem.Draw import IPythonConsole\n",
    "from rdkit import RDLogger\n",
    "RDLogger.logger().setLevel(RDLogger.CRITICAL)"
   ]
  },
  {
   "cell_type": "markdown",
   "metadata": {
    "colab_type": "text",
    "id": "jLM9gLvXQBEU"
   },
   "source": [
    "Create molecule"
   ]
  },
  {
   "cell_type": "code",
   "execution_count": null,
   "metadata": {
    "colab": {},
    "colab_type": "code",
    "id": "5046feUN-caj"
   },
   "outputs": [],
   "source": [
    "ala = Chem.MolFromSmiles( 'CC(C(=O)O)N' )\n",
    "ala"
   ]
  },
  {
   "cell_type": "code",
   "execution_count": null,
   "metadata": {
    "colab": {},
    "colab_type": "code",
    "id": "7nLMiTgEOEYs"
   },
   "outputs": [],
   "source": [
    "Chem.MolToMolBlock(ala)"
   ]
  },
  {
   "cell_type": "code",
   "execution_count": null,
   "metadata": {
    "colab": {},
    "colab_type": "code",
    "id": "zITWCMKCO8pX"
   },
   "outputs": [],
   "source": [
    "Chem.MolToSmiles(ala)"
   ]
  },
  {
   "cell_type": "code",
   "execution_count": null,
   "metadata": {
    "colab": {},
    "colab_type": "code",
    "id": "yacnkM0KO9E2"
   },
   "outputs": [],
   "source": [
    "Chem.MolToInchi(ala)"
   ]
  },
  {
   "cell_type": "markdown",
   "metadata": {
    "colab_type": "text",
    "id": "DdyyO3jpQMUm"
   },
   "source": [
    "3D Coordinates"
   ]
  },
  {
   "cell_type": "code",
   "execution_count": null,
   "metadata": {
    "colab": {},
    "colab_type": "code",
    "id": "EbjqaDOcQLRk"
   },
   "outputs": [],
   "source": [
    "alaH = Chem.AddHs(ala)\n",
    "rdDistGeom.EmbedMolecule(alaH)\n",
    "alaH"
   ]
  },
  {
   "cell_type": "code",
   "execution_count": null,
   "metadata": {
    "colab": {},
    "colab_type": "code",
    "id": "VObwM3BkQcoN"
   },
   "outputs": [],
   "source": [
    "ff = AllChem.UFFGetMoleculeForceField(alaH)\n",
    "print( \"Before=\", ff.CalcEnergy() )\n",
    "AllChem.UFFOptimizeMolecule(alaH)\n",
    "print( \"After=\", ff.CalcEnergy() )\n",
    "alaH"
   ]
  },
  {
   "cell_type": "markdown",
   "metadata": {
    "colab_type": "text",
    "id": "VoxtWgfyQzIy"
   },
   "source": [
    "Descriptors"
   ]
  },
  {
   "cell_type": "code",
   "execution_count": null,
   "metadata": {
    "colab": {},
    "colab_type": "code",
    "id": "d8SH5f03QdUd"
   },
   "outputs": [],
   "source": [
    "from rdkit.Chem import Descriptors"
   ]
  },
  {
   "cell_type": "code",
   "execution_count": null,
   "metadata": {
    "colab": {},
    "colab_type": "code",
    "id": "W8y5YWfpQ6Pd"
   },
   "outputs": [],
   "source": [
    "Descriptors.MolWt(alaH), Descriptors.MolLogP(alaH), Descriptors.RingCount(alaH), Descriptors.TPSA(alaH)"
   ]
  },
  {
   "cell_type": "markdown",
   "metadata": {
    "colab_type": "text",
    "id": "PXUaxos1RJa5"
   },
   "source": [
    "Database"
   ]
  },
  {
   "cell_type": "code",
   "execution_count": null,
   "metadata": {
    "colab": {},
    "colab_type": "code",
    "id": "42DaeyrKRlNd"
   },
   "outputs": [],
   "source": [
    "from google.colab import auth\n",
    "auth.authenticate_user()\n",
    "\n",
    "from google.colab import drive\n",
    "drive.mount('./MyDrive')"
   ]
  },
  {
   "cell_type": "code",
   "execution_count": null,
   "metadata": {
    "colab": {},
    "colab_type": "code",
    "id": "FbKgBqSLRLVM"
   },
   "outputs": [],
   "source": [
    "#db_egfr = Chem.SDMolSupplier( '../data/egfr/ChEMBL27_EGFR_aminopyridine.sdf' )\n",
    "db_egfr = Chem.SDMolSupplier( './MyDrive/My Drive/Colab Notebooks/data/egfr/ChEMBL27_EGFR_aminopyridine.sdf' )\n",
    "mols_egfr = [ x for x in db_egfr if x is not None ]\n",
    "print( '%d-molecules read...' % len(mols_egfr) )\n",
    "Draw.MolsToGridImage( mols_egfr[0:10], molsPerRow=4, subImgSize=(300,300) )"
   ]
  },
  {
   "cell_type": "markdown",
   "metadata": {
    "colab_type": "text",
    "id": "JsN41zHYS7KS"
   },
   "source": [
    "Substructure search"
   ]
  },
  {
   "cell_type": "code",
   "execution_count": null,
   "metadata": {
    "colab": {},
    "colab_type": "code",
    "id": "KMCJibBzS9NK"
   },
   "outputs": [],
   "source": [
    "smiles = 'COc1cc(ccc1Nc1ncc(Cl)c(Oc2ccccc2)n1)N1CCNCC1'\n",
    "query = Chem.MolFromSmiles( smiles )\n",
    "AllChem.Compute2DCoords(query)\n",
    "query"
   ]
  },
  {
   "cell_type": "code",
   "execution_count": null,
   "metadata": {
    "colab": {},
    "colab_type": "code",
    "id": "upStZTiAUQef"
   },
   "outputs": [],
   "source": [
    "result = [ x for x in db_egfr if x.HasSubstructMatch(query) ]\n",
    "print( \"Found = \", len( result ), \" from \", len( db_egfr ) )\n",
    "for m in result:\n",
    "    AllChem.GenerateDepictionMatching2DStructure( m, query )\n",
    "\n",
    "Draw.MolsToGridImage( result[:20], molsPerRow=4, subImgSize=(300,300), highlightAtomLists=[ m.GetSubstructMatch(query) for m in result ]  )"
   ]
  },
  {
   "cell_type": "markdown",
   "metadata": {
    "colab_type": "text",
    "id": "GTciMaUTTI8O"
   },
   "source": [
    "Fingerprint similarity search"
   ]
  },
  {
   "cell_type": "code",
   "execution_count": null,
   "metadata": {
    "colab": {},
    "colab_type": "code",
    "id": "lvR8YrCnTKha"
   },
   "outputs": [],
   "source": [
    "from rdkit.Chem.Fingerprints import FingerprintMols\n",
    "\n",
    "fps = [ FingerprintMols.FingerprintMol(m) for m in mols_egfr ]\n",
    "fp_ref = fps[1]\n",
    "fvals = []\n",
    "for i in range(len(fps)):\n",
    "    fval = DataStructs.FingerprintSimilarity( fp_ref, fps[i] )\n",
    "    fvals.append( fval )\n",
    "print( np.array_str( np.array(fvals), precision=2 ) )"
   ]
  },
  {
   "cell_type": "markdown",
   "metadata": {
    "colab_type": "text",
    "id": "rNyn0B1ZVCuX"
   },
   "source": [
    "MCS"
   ]
  },
  {
   "cell_type": "code",
   "execution_count": null,
   "metadata": {
    "colab": {},
    "colab_type": "code",
    "id": "02yFih1hTSgT"
   },
   "outputs": [],
   "source": [
    "from rdkit.Chem import rdFMCS\n",
    "\n",
    "mols_sub = mols_egfr[:10]\n",
    "mcsf = rdFMCS.FindMCS( mols_sub )\n",
    "mcs = Chem.MolFromSmarts( mcsf.smartsString )\n",
    "mcs"
   ]
  },
  {
   "cell_type": "code",
   "execution_count": null,
   "metadata": {
    "colab": {},
    "colab_type": "code",
    "id": "_FIlmzdBWZIf"
   },
   "outputs": [],
   "source": [
    "Draw.MolsToGridImage( mols_sub, molsPerRow=5, subImgSize=(200,200), highlightAtomLists=[ m.GetSubstructMatch(mcs) for m in mols_sub ] )"
   ]
  },
  {
   "cell_type": "code",
   "execution_count": null,
   "metadata": {
    "colab": {},
    "colab_type": "code",
    "id": "TjPO-RtOWctA"
   },
   "outputs": [],
   "source": [
    "from rdkit.Chem import rdRGroupDecomposition as rdRGD\n",
    "\n",
    "mcsf = rdFMCS.FindMCS( mols_egfr )\n",
    "mcs = Chem.MolFromSmarts( mcsf.smartsString )\n",
    "\n",
    "matched,unmatched = rdRGD.RGroupDecompose([mcs],mols_egfr[:50],asSmiles=True)\n",
    "print( len(matched), len(unmatched) )\n",
    "print( matched[:3] )\n",
    "Chem.MolFromSmiles( matched[0]['Core'])"
   ]
  },
  {
   "cell_type": "markdown",
   "metadata": {
    "colab_type": "text",
    "id": "jGPFWHQkXkgq"
   },
   "source": [
    "Fingerprint"
   ]
  },
  {
   "cell_type": "code",
   "execution_count": null,
   "metadata": {
    "colab": {},
    "colab_type": "code",
    "id": "84fS_L_1XmGZ"
   },
   "outputs": [],
   "source": [
    "m = Chem.MolFromSmiles( Chem.MolToSmiles(mcs) )\n",
    "bi = {}\n",
    "fp = AllChem.GetMorganFingerprintAsBitVect(m, radius=2, bitInfo=bi)\n",
    "print( bi )\n",
    "Draw.DrawMorganBit(m, 1819, bi)"
   ]
  },
  {
   "cell_type": "markdown",
   "metadata": {
    "colab_type": "text",
    "id": "pjMkLA2ur60u"
   },
   "source": [
    "Fingerprint"
   ]
  },
  {
   "cell_type": "code",
   "execution_count": null,
   "metadata": {
    "colab": {},
    "colab_type": "code",
    "id": "V8Z2IEubr9-z"
   },
   "outputs": [],
   "source": [
    "from rdkit.Chem.Fingerprints import FingerprintMols\n",
    "\n",
    "ala = Chem.MolFromSmiles( 'CC(C(=O)O)N' )\n",
    "bi = {}\n",
    "fp = AllChem.GetMorganFingerprintAsBitVect( ala, 2, nBits=1024, bitInfo=bi )\n",
    "#fp_arr = np.zeros( (1, ) )\n",
    "#DataStructs.ConvertToNumpyArray( fp, fp_arr )\n",
    "#np.nonzero( fp_arr )\n",
    "#list( fp.GetOnBits() )\n",
    "\n",
    "mfps = [ ( ala, x, bi ) for x in fp.GetOnBits() ]\n",
    "Draw.DrawMorganBits( mfps, molsPerRow=4, subImgSize=(150,150), legends=[ str(x) for x in fp.GetOnBits() ] )"
   ]
  },
  {
   "cell_type": "code",
   "execution_count": null,
   "metadata": {
    "colab": {},
    "colab_type": "code",
    "id": "JipqUtnXwiE4"
   },
   "outputs": [],
   "source": [
    "cys = Chem.MolFromSmiles('SCC(C(=O)O)N')\n",
    "bi2 = {}\n",
    "fp2 = AllChem.GetMorganFingerprintAsBitVect( cys, 2, nBits=1024, bitInfo=bi2 )\n",
    "mfps2 = [ ( cys, x, bi2 ) for x in fp2.GetOnBits() ]\n",
    "Draw.DrawMorganBits( mfps2, molsPerRow=4, subImgSize=(150,150), legends=[ str(x) for x in fp2.GetOnBits() ] )"
   ]
  },
  {
   "cell_type": "code",
   "execution_count": null,
   "metadata": {
    "colab": {},
    "colab_type": "code",
    "id": "r4Efq-8ixh_x"
   },
   "outputs": [],
   "source": [
    "common = set( fp.GetOnBits() ) & set( fp2.GetOnBits() )\n",
    "combined = set( fp.GetOnBits() ) | set( fp2.GetOnBits() )\n",
    "print( len(common), ' : ', common )\n",
    "print( len(combined), ' : ', combined )\n",
    "print( len(common) / len(combined) )\n",
    "print( DataStructs.TanimotoSimilarity( fp, fp2 ) )"
   ]
  },
  {
   "cell_type": "markdown",
   "metadata": {
    "colab_type": "text",
    "id": "4MZn6T07X_RV"
   },
   "source": [
    "Fingerprint similarity map"
   ]
  },
  {
   "cell_type": "code",
   "execution_count": null,
   "metadata": {
    "colab": {},
    "colab_type": "code",
    "id": "rOobbpZEYCR_"
   },
   "outputs": [],
   "source": [
    "from rdkit.Chem.Draw import SimilarityMaps\n",
    "\n",
    "ref = mols_sub[0]\n",
    "mol = mols_sub[1]\n",
    "fig, maxweight = SimilarityMaps.GetSimilarityMapForFingerprint( ref, mol, SimilarityMaps.GetMorganFingerprint )\n",
    "\n",
    "Draw.MolsToGridImage( [ref, mol], molsPerRow=3, subImgSize=(300,300) )"
   ]
  },
  {
   "cell_type": "code",
   "execution_count": null,
   "metadata": {
    "colab": {},
    "colab_type": "code",
    "id": "f7AlA7HZZUbr"
   },
   "outputs": [],
   "source": [
    "import numpy as np\n",
    "\n",
    "fps = [ FingerprintMols.FingerprintMol(m) for m in mols_egfr ]\n",
    "fp_ref = fps[1]\n",
    "\n",
    "val = []\n",
    "for i in range(len(fps)):\n",
    "    val.append( DataStructs.FingerprintSimilarity( fp_ref, fps[i] ) )\n",
    "print( np.array_str( np.array(val), precision=2 ) )"
   ]
  },
  {
   "cell_type": "code",
   "execution_count": null,
   "metadata": {
    "colab": {},
    "colab_type": "code",
    "id": "KhUXmX2waJKt"
   },
   "outputs": [],
   "source": [
    "from rdkit.Chem import rdMolDescriptors\n",
    "\n",
    "m = mols_sub[0]\n",
    "AllChem.ComputeGasteigerCharges(m)\n",
    "charges = [ m.GetAtomWithIdx(i).GetDoubleProp('_GasteigerCharge') for i in range(m.GetNumAtoms()) ]\n",
    "logp = rdMolDescriptors._CalcCrippenContribs(m)\n",
    "print( \"Charges = \", np.array_str( np.array(charges), precision=2 ) )\n",
    "print( \"(LogP, MR) = \", np.array_str( np.array(logp), precision=2 ) )\n",
    "\n",
    "_ = SimilarityMaps.GetSimilarityMapFromWeights(m, charges, colorMap='jet', contourLines=10)\n",
    "_ = SimilarityMaps.GetSimilarityMapFromWeights(mol,[x for x,y in logp], colorMap='jet', contourLines=10)"
   ]
  },
  {
   "cell_type": "markdown",
   "metadata": {
    "colab_type": "text",
    "id": "qej0PXXBazhm"
   },
   "source": [
    "Reactions"
   ]
  },
  {
   "cell_type": "code",
   "execution_count": null,
   "metadata": {
    "colab": {},
    "colab_type": "code",
    "id": "XOq5XS_ra06U"
   },
   "outputs": [],
   "source": [
    "rxn = AllChem.ReactionFromSmarts('[C:1](=[O:2])-[OD1].[N!H0:3]>>[C:1](=[O:2])[N:3]')\n",
    "rxn"
   ]
  },
  {
   "cell_type": "code",
   "execution_count": null,
   "metadata": {
    "colab": {},
    "colab_type": "code",
    "id": "CjyvSASla28X"
   },
   "outputs": [],
   "source": [
    "rx1 = Chem.MolFromSmiles('C(COC(=O)O)C(=O)O')\n",
    "rx2 = Chem.MolFromSmiles('NC')\n",
    "ps = rxn.RunReactants((rx1,rx2) )\n",
    "print( len(ps) )\n",
    "Draw.MolsToGridImage( [ rx1, rx2, ps[0][0], ps[1][0] ], molsPerRow=2, subImgSize=(300,300) )"
   ]
  },
  {
   "cell_type": "markdown",
   "metadata": {
    "colab_type": "text",
    "id": "djIpEnvjbe6Y"
   },
   "source": [
    "RECAP"
   ]
  },
  {
   "cell_type": "code",
   "execution_count": null,
   "metadata": {
    "colab": {},
    "colab_type": "code",
    "id": "QupBcM6Gbbvj"
   },
   "outputs": [],
   "source": [
    "from rdkit.Chem import Recap\n",
    "m = Chem.MolFromSmiles('c1ccccc1OCCOC(=O)CC')\n",
    "hierarch = Recap.RecapDecompose(m)\n",
    "print( hierarch.children.keys() )\n",
    "hierarch.mol"
   ]
  },
  {
   "cell_type": "code",
   "execution_count": null,
   "metadata": {
    "colab": {},
    "colab_type": "code",
    "id": "Z-A0ZFfSSXpo"
   },
   "outputs": [],
   "source": [
    "!nvidia-smi\n"
   ]
  }
 ],
 "metadata": {
  "accelerator": "GPU",
  "colab": {
   "authorship_tag": "ABX9TyO6IvgKnp6BV+uVRMf+UyM9",
   "collapsed_sections": [],
   "name": "RDKit_tutorial_01.ipynb",
   "private_outputs": true,
   "provenance": []
  },
  "kernelspec": {
   "display_name": "Python 3",
   "language": "python",
   "name": "python3"
  },
  "language_info": {
   "codemirror_mode": {
    "name": "ipython",
    "version": 3
   },
   "file_extension": ".py",
   "mimetype": "text/x-python",
   "name": "python",
   "nbconvert_exporter": "python",
   "pygments_lexer": "ipython3",
   "version": "3.7.7"
  }
 },
 "nbformat": 4,
 "nbformat_minor": 1
}
